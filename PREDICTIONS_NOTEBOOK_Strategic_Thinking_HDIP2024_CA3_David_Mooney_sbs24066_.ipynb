{
 "cells": [
  {
   "cell_type": "markdown",
   "id": "bbbb2ebf",
   "metadata": {},
   "source": [
    "# In this Notebook I will make all the predictions"
   ]
  },
  {
   "cell_type": "code",
   "execution_count": 1,
   "id": "354b8351",
   "metadata": {},
   "outputs": [],
   "source": [
    "import pandas as pd\n",
    "from joblib import dump, load"
   ]
  },
  {
   "cell_type": "code",
   "execution_count": 2,
   "id": "12692c52",
   "metadata": {},
   "outputs": [
    {
     "data": {
      "text/html": [
       "<div>\n",
       "<style scoped>\n",
       "    .dataframe tbody tr th:only-of-type {\n",
       "        vertical-align: middle;\n",
       "    }\n",
       "\n",
       "    .dataframe tbody tr th {\n",
       "        vertical-align: top;\n",
       "    }\n",
       "\n",
       "    .dataframe thead th {\n",
       "        text-align: right;\n",
       "    }\n",
       "</style>\n",
       "<table border=\"1\" class=\"dataframe\">\n",
       "  <thead>\n",
       "    <tr style=\"text-align: right;\">\n",
       "      <th></th>\n",
       "      <th>ga</th>\n",
       "      <th>xg</th>\n",
       "      <th>xga</th>\n",
       "      <th>poss</th>\n",
       "      <th>sh</th>\n",
       "      <th>sot</th>\n",
       "      <th>result_L</th>\n",
       "      <th>result_W</th>\n",
       "      <th>venue_Home</th>\n",
       "      <th>opponent_Aston Villa</th>\n",
       "      <th>...</th>\n",
       "      <th>team_Newcastle United</th>\n",
       "      <th>team_Norwich City</th>\n",
       "      <th>team_Nottingham Forest</th>\n",
       "      <th>team_Sheffield United</th>\n",
       "      <th>team_Southampton</th>\n",
       "      <th>team_Tottenham Hotspur</th>\n",
       "      <th>team_Watford</th>\n",
       "      <th>team_West Bromwich Albion</th>\n",
       "      <th>team_West Ham United</th>\n",
       "      <th>team_Wolverhampton Wanderers</th>\n",
       "    </tr>\n",
       "  </thead>\n",
       "  <tbody>\n",
       "    <tr>\n",
       "      <th>0</th>\n",
       "      <td>0</td>\n",
       "      <td>2.53</td>\n",
       "      <td>0.97</td>\n",
       "      <td>52.76</td>\n",
       "      <td>19</td>\n",
       "      <td>6</td>\n",
       "      <td>0</td>\n",
       "      <td>1</td>\n",
       "      <td>0</td>\n",
       "      <td>0</td>\n",
       "      <td>...</td>\n",
       "      <td>0</td>\n",
       "      <td>0</td>\n",
       "      <td>0</td>\n",
       "      <td>0</td>\n",
       "      <td>0</td>\n",
       "      <td>0</td>\n",
       "      <td>0</td>\n",
       "      <td>0</td>\n",
       "      <td>0</td>\n",
       "      <td>0</td>\n",
       "    </tr>\n",
       "  </tbody>\n",
       "</table>\n",
       "<p>1 rows × 59 columns</p>\n",
       "</div>"
      ],
      "text/plain": [
       "   ga    xg   xga   poss  sh  sot  result_L  result_W  venue_Home  \\\n",
       "0   0  2.53  0.97  52.76  19    6         0         1           0   \n",
       "\n",
       "   opponent_Aston Villa  ...  team_Newcastle United  team_Norwich City  \\\n",
       "0                     0  ...                      0                  0   \n",
       "\n",
       "   team_Nottingham Forest  team_Sheffield United  team_Southampton  \\\n",
       "0                       0                      0                 0   \n",
       "\n",
       "   team_Tottenham Hotspur  team_Watford  team_West Bromwich Albion  \\\n",
       "0                       0             0                          0   \n",
       "\n",
       "   team_West Ham United  team_Wolverhampton Wanderers  \n",
       "0                     0                             0  \n",
       "\n",
       "[1 rows x 59 columns]"
      ]
     },
     "execution_count": 2,
     "metadata": {},
     "output_type": "execute_result"
    }
   ],
   "source": [
    "\n",
    "\n",
    "           #Statistical Features\n",
    "data = {'ga': [0], \n",
    "        'xg': [2.53], \n",
    "        'xga': [0.97],  \n",
    "        'poss':[52.76], \n",
    "        'sh':[19], \n",
    "        'sot':[6],\n",
    "        'result_L':[0], #LOST : ([L = 1]&[W = 0]),    #DRAW : ([L = 0]&[W = 0])\n",
    "        'result_W':[1], #WON : ([L = 0]&[W = 1])\n",
    "        'venue_Home':[0], #Home = 1, Away = 0\n",
    "        \n",
    "           #Opponent Data(Away Team)\n",
    "       'opponent_Aston Villa':[0], \n",
    "       'opponent_Bournemouth':[0],\n",
    "       'opponent_Brentford':[0],\n",
    "       'opponent_Brighton and Hove Albion':[0], \n",
    "       'opponent_Burnley':[0], \n",
    "       'opponent_Chelsea':[0],\n",
    "       'opponent_Crystal Palace':[0], \n",
    "       'opponent_Everton':[0], \n",
    "       'opponent_Fulham':[0],\n",
    "       'opponent_Leeds United':[0], \n",
    "       'opponent_Leicester City':[0], \n",
    "       'opponent_Liverpool':[1],\n",
    "       'opponent_Luton Town':[0],\n",
    "       'opponent_Manchester City':[0],\n",
    "       'opponent_Manchester United':[0],\n",
    "       'opponent_Newcastle United':[0], \n",
    "       'opponent_Norwich City':[0], \n",
    "       'opponent_Nottingham Forest':[0],\n",
    "       'opponent_Sheffield Utd':[0], \n",
    "       'opponent_Southampton':[0], \n",
    "       'opponent_Tottenham Hotspur':[0],\n",
    "       'opponent_Watford':[0], \n",
    "       'opponent_West Bromwich Albion':[0], \n",
    "       'opponent_West Ham United':[0],\n",
    "       'opponent_Wolverhampton Wanderers':[0],\n",
    "        \n",
    "           #Team Data(Home Team)\n",
    "       'team_Aston Villa':[1], \n",
    "       'team_Bournemouth':[0],\n",
    "       'team_Brentford':[0],\n",
    "       'team_Brighton and Hove Albion':[0], \n",
    "       'team_Burnley':[0], \n",
    "       'team_Chelsea':[0],\n",
    "       'team_Crystal Palace':[0], \n",
    "       'team_Everton':[0], \n",
    "       'team_Fulham':[0],\n",
    "       'team_Leeds United':[0], \n",
    "       'team_Leicester City':[0], \n",
    "       'team_Liverpool':[0],\n",
    "       'team_Luton Town':[0],\n",
    "       'team_Manchester City':[0],\n",
    "       'team_Manchester United':[0],\n",
    "       'team_Newcastle United':[0], \n",
    "       'team_Norwich City':[0], \n",
    "       'team_Nottingham Forest':[0],\n",
    "       'team_Sheffield United':[0], \n",
    "       'team_Southampton':[0], \n",
    "       'team_Tottenham Hotspur':[0],\n",
    "       'team_Watford':[0], \n",
    "       'team_West Bromwich Albion':[0], \n",
    "       'team_West Ham United':[0],\n",
    "       'team_Wolverhampton Wanderers':[0]\n",
    "       } \n",
    "\n",
    "\n",
    "week1 = pd.DataFrame(data)\n",
    "week1"
   ]
  },
  {
   "cell_type": "code",
   "execution_count": 3,
   "id": "307e0aa7",
   "metadata": {},
   "outputs": [],
   "source": [
    "Game1LinR = load(filename = \"Linear Regression Model.joblib\")\n",
    "Game1RF = load(filename = \"Random Forest Regressor Model.joblib\")"
   ]
  },
  {
   "cell_type": "code",
   "execution_count": 4,
   "id": "b6bb630c",
   "metadata": {},
   "outputs": [
    {
     "name": "stdout",
     "output_type": "stream",
     "text": [
      " Linear Regression Goals For Prediction: [2.09340731]\n",
      " Random Forest Regressor Goals For Prediction: [2.6089952]\n"
     ]
    }
   ],
   "source": [
    "GoalsPredLINR = Game1LinR.predict(week1)\n",
    "GoalsPredRF = Game1RF.predict(week1)\n",
    "print(\" Linear Regression Goals For Prediction:\",GoalsPredLINR)\n",
    "print(\" Random Forest Regressor Goals For Prediction:\",GoalsPredRF)"
   ]
  },
  {
   "cell_type": "code",
   "execution_count": 5,
   "id": "edb714cd",
   "metadata": {},
   "outputs": [
    {
     "name": "stdout",
     "output_type": "stream",
     "text": [
      "Average of both Predictions:  [2.35120125]\n"
     ]
    }
   ],
   "source": [
    "avg = (GoalsPredLINR+GoalsPredRF)/2\n",
    "print(\"Average of both Predictions: \", avg)"
   ]
  },
  {
   "cell_type": "code",
   "execution_count": null,
   "id": "9ba92338",
   "metadata": {},
   "outputs": [],
   "source": []
  }
 ],
 "metadata": {
  "kernelspec": {
   "display_name": "Python 3 (ipykernel)",
   "language": "python",
   "name": "python3"
  },
  "language_info": {
   "codemirror_mode": {
    "name": "ipython",
    "version": 3
   },
   "file_extension": ".py",
   "mimetype": "text/x-python",
   "name": "python",
   "nbconvert_exporter": "python",
   "pygments_lexer": "ipython3",
   "version": "3.11.7"
  }
 },
 "nbformat": 4,
 "nbformat_minor": 5
}
