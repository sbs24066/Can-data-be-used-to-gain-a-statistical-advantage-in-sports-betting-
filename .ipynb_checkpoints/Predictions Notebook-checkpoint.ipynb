{
 "cells": [
  {
   "cell_type": "markdown",
   "id": "4470a245",
   "metadata": {},
   "source": [
    "# In this Notebook I will make all the predictions"
   ]
  },
  {
   "cell_type": "code",
   "execution_count": null,
   "id": "ecbe2c5c",
   "metadata": {},
   "outputs": [],
   "source": [
    "import pandas as pd\n",
    "from joblib import dump, load"
   ]
  },
  {
   "cell_type": "code",
   "execution_count": null,
   "id": "efef27a1",
   "metadata": {},
   "outputs": [],
   "source": [
    "# Southampton\tvs\tManchester United\n",
    "# Brighton\tvs\tIpswich\n",
    "# Fulham\tvs\tWest Ham\n",
    "# Liverpool\tvs\tNottingham Forest\n",
    "# Crystal Palace\tvs\tLeicester City\n",
    "# Manchester City\tvs\tBrentford\n",
    "# Aston Villa\tvs\tEverton\n",
    "# Bournemouth\tvs\tChelsea\n",
    "# Tottenahm\tvs\tArsenal\n",
    "# Wolves\tvs\tNewcastle\n",
    "\n",
    "            #Statistical Features\n",
    "data = {'ga': [1], \n",
    "        'xg': [1.3], \n",
    "        'xga': [1.6],  \n",
    "        'poss':[55], \n",
    "        'sh':[19], \n",
    "        'sot':[7], \n",
    "        'result_L':[0], #LOST : ([L = 1]&[W = 0]),    #DRAW : ([L = 0]&[W = 0])\n",
    "        'result_W':[1], #WON : ([L = 0]&[W = 1])\n",
    "        'venue_Home':[1], #Home = 1, Away = 0\n",
    "        \n",
    "           #Opponent Data(Away Team)\n",
    "       'opponent_Aston Villa':[0], \n",
    "       'opponent_Bournemouth':[0],\n",
    "       'opponent_Brentford':[0],\n",
    "       'opponent_Brighton and Hove Albion':[0], \n",
    "       'opponent_Burnley':[0], \n",
    "       'opponent_Chelsea':[0],\n",
    "       'opponent_Crystal Palace':[0], \n",
    "       'opponent_Everton':[0], \n",
    "       'opponent_Fulham':[0],\n",
    "       'opponent_Leeds United':[0], \n",
    "       'opponent_Leicester City':[0], \n",
    "       'opponent_Liverpool':[0],\n",
    "       'opponent_Luton Town':[0],\n",
    "       'opponent_Manchester City':[0],\n",
    "       'opponent_Manchester United':[0],\n",
    "       'opponent_Newcastle United':[1], \n",
    "       'opponent_Norwich City':[0], \n",
    "       'opponent_Nottingham Forest':[0],\n",
    "       'opponent_Sheffield Utd':[0], \n",
    "       'opponent_Southampton':[0], \n",
    "       'opponent_Tottenham Hotspur':[0],\n",
    "       'opponent_Watford':[0], \n",
    "       'opponent_West Bromwich Albion':[0], \n",
    "       'opponent_West Ham United':[0],\n",
    "       'opponent_Wolverhampton Wanderers':[0],\n",
    "        \n",
    "           #Team Data(Home Team)\n",
    "       'team_Aston Villa':[0], \n",
    "       'team_Bournemouth':[0],\n",
    "       'team_Brentford':[0],\n",
    "       'team_Brighton and Hove Albion':[0], \n",
    "       'team_Burnley':[0], \n",
    "       'team_Chelsea':[0],\n",
    "       'team_Crystal Palace':[0], \n",
    "       'team_Everton':[0], \n",
    "       'team_Fulham':[1],\n",
    "       'team_Leeds United':[0], \n",
    "       'team_Leicester City':[0], \n",
    "       'team_Liverpool':[0],\n",
    "       'team_Luton Town':[0],\n",
    "       'team_Manchester City':[0],\n",
    "       'team_Manchester United':[0],\n",
    "       'team_Newcastle United':[0], \n",
    "       'team_Norwich City':[0], \n",
    "       'team_Nottingham Forest':[0],\n",
    "       'team_Sheffield United':[0], \n",
    "       'team_Southampton':[0], \n",
    "       'team_Tottenham Hotspur':[0],\n",
    "       'team_Watford':[0], \n",
    "       'team_West Bromwich Albion':[0], \n",
    "       'team_West Ham United':[0],\n",
    "       'team_Wolverhampton Wanderers':[0]\n",
    "       } \n",
    "\n",
    "\n",
    "week1 = pd.DataFrame(data)\n",
    "week1"
   ]
  },
  {
   "cell_type": "code",
   "execution_count": null,
   "id": "0f7a917c",
   "metadata": {},
   "outputs": [],
   "source": [
    "Game1LinR = load(filename = \"Linear Regression Model.joblib\")\n",
    "Game1RF = load(filename = \"Random Forest Regressor Model.joblib\")"
   ]
  },
  {
   "cell_type": "code",
   "execution_count": null,
   "id": "7dab14d1",
   "metadata": {},
   "outputs": [],
   "source": [
    "GoalsPredLINR = Game1LinR.predict(week1)\n",
    "GoalsPredRF = Game1RF.predict(week1)\n",
    "print(\" Linear Regression Goals For Prediction:\",GoalsPredLINR)\n",
    "print(\" Random Forest Regressor Goals For Prediction:\",GoalsPredRF)"
   ]
  },
  {
   "cell_type": "code",
   "execution_count": null,
   "id": "1879583a",
   "metadata": {},
   "outputs": [],
   "source": [
    "(2.5395358+2.30617924)/2"
   ]
  },
  {
   "cell_type": "code",
   "execution_count": null,
   "id": "ab788c11",
   "metadata": {},
   "outputs": [],
   "source": []
  }
 ],
 "metadata": {
  "kernelspec": {
   "display_name": "Python 3 (ipykernel)",
   "language": "python",
   "name": "python3"
  },
  "language_info": {
   "codemirror_mode": {
    "name": "ipython",
    "version": 3
   },
   "file_extension": ".py",
   "mimetype": "text/x-python",
   "name": "python",
   "nbconvert_exporter": "python",
   "pygments_lexer": "ipython3",
   "version": "3.11.5"
  }
 },
 "nbformat": 4,
 "nbformat_minor": 5
}
